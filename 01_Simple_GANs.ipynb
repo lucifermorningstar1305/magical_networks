{
 "cells": [
  {
   "cell_type": "code",
   "execution_count": 1,
   "metadata": {},
   "outputs": [],
   "source": [
    "import numpy as np\n",
    "import matplotlib.pyplot as plt\n",
    "import pandas as pd\n",
    "import torch\n",
    "import torch.nn as nn\n",
    "import torchvision\n",
    "import torchvision.transforms as transforms\n",
    "from torchvision.utils import save_image\n",
    "import datetime\n",
    "import os\n",
    "import sys\n",
    "from tqdm.notebook import tqdm\n",
    "from jupyterthemes import jtplot\n",
    "jtplot.style(theme=\"monokai\", context=\"notebook\", ticks=True)"
   ]
  },
  {
   "cell_type": "code",
   "execution_count": 2,
   "metadata": {},
   "outputs": [],
   "source": [
    "transform = transforms.Compose([\n",
    "    transforms.ToTensor(),\n",
    "    transforms.Normalize(mean=(0.5,), std=(0.5, ))\n",
    "])"
   ]
  },
  {
   "cell_type": "code",
   "execution_count": 4,
   "metadata": {},
   "outputs": [],
   "source": [
    "train_dataset = torchvision.datasets.MNIST(root=\"./DATA/\", transform=transform)"
   ]
  },
  {
   "cell_type": "code",
   "execution_count": 5,
   "metadata": {},
   "outputs": [],
   "source": [
    "batch_size = 128\n",
    "train_iter = torch.utils.data.DataLoader(train_dataset, shuffle=True, \n",
    "                                        batch_size=batch_size)"
   ]
  },
  {
   "cell_type": "code",
   "execution_count": 6,
   "metadata": {},
   "outputs": [],
   "source": [
    "def get_discriminator_block(input_dim, output_dim):\n",
    "    \"\"\"\n",
    "    Description : To create a discriminator neural network block\n",
    "    \n",
    "    Parameters :\n",
    "    @param input_dim -- a python integer for the input dimension\n",
    "    @param output_dim -- a python integer for the output dimension\n",
    "    \n",
    "    Return :\n",
    "    @ret neural_block -- a Sequential layer\n",
    "    \"\"\"\n",
    "    \n",
    "    neural_block = nn.Sequential(nn.Linear(input_dim, output_dim),\n",
    "                         nn.LeakyReLU(negative_slope=0.2))\n",
    "    \n",
    "    return neural_block"
   ]
  },
  {
   "cell_type": "code",
   "execution_count": 7,
   "metadata": {},
   "outputs": [],
   "source": [
    "def get_generator_block(input_dim, output_dim):\n",
    "    \"\"\"\n",
    "    Description : To create a generator neural network block\n",
    "    \n",
    "    Parameters:\n",
    "    @param input_dim -- a python integer for the input dimension\n",
    "    @param output_dim -- a python integer for the output dimension\n",
    "    \n",
    "    Return :\n",
    "    @ret neural_block -- a Sequential Layer\n",
    "    \"\"\"\n",
    "    \n",
    "    neural_block = nn.Sequential(nn.Linear(input_dim, output_dim),\n",
    "                                nn.BatchNorm1d(output_dim, momentum=0.7),\n",
    "                                nn.LeakyReLU(negative_slope=0.2))\n",
    "    \n",
    "    return neural_block"
   ]
  },
  {
   "cell_type": "code",
   "execution_count": 8,
   "metadata": {},
   "outputs": [],
   "source": [
    "class Discriminator(nn.Module):\n",
    "    \n",
    "    def __init__(self, input_dim, output_dim, hidden_dim=128):\n",
    "        \n",
    "        super(Discriminator, self).__init__()\n",
    "        \n",
    "        self.disc = nn.Sequential(get_discriminator_block(input_dim, hidden_dim*4),\n",
    "                                 get_discriminator_block(hidden_dim*4, hidden_dim*2),\n",
    "                                 nn.Linear(hidden_dim*2, output_dim))\n",
    "        \n",
    "    \n",
    "    def forward(self, X):\n",
    "        out = self.disc(X)\n",
    "        return out"
   ]
  },
  {
   "cell_type": "code",
   "execution_count": 9,
   "metadata": {},
   "outputs": [],
   "source": [
    "class Generator(nn.Module):\n",
    "    \n",
    "    def __init__(self, input_dim, output_dim, hidden_dim=128):\n",
    "        super(Generator, self).__init__()\n",
    "        \n",
    "        self.gen = nn.Sequential(get_generator_block(input_dim, hidden_dim*2),\n",
    "                                get_generator_block(hidden_dim*2, hidden_dim*4),\n",
    "                                nn.Linear(hidden_dim*4, output_dim),\n",
    "                                nn.Tanh())\n",
    "        \n",
    "    def forward(self, X):\n",
    "        out = self.gen(X)\n",
    "        return out\n",
    "        "
   ]
  },
  {
   "cell_type": "code",
   "execution_count": 10,
   "metadata": {},
   "outputs": [],
   "source": [
    "def generate_noise(batch_size, latent_dim=100):\n",
    "    \"\"\"\n",
    "    Description : Function to generate noise from Gaussian Distribution\n",
    "    \n",
    "    Parameters : \n",
    "    @param batch_size -- a python integer representing the batch size\n",
    "    @param latent_dim -- a python integer representing the dimension of the noise\n",
    "    \n",
    "    Return :\n",
    "    Random sampling of data from Gaussian Distribution as per the size\n",
    "    \"\"\"\n",
    "    return torch.randn(batch_size, latent_dim)"
   ]
  },
  {
   "cell_type": "code",
   "execution_count": 11,
   "metadata": {},
   "outputs": [],
   "source": [
    "criterion = nn.BCEWithLogitsLoss()\n",
    "device = torch.device(\"cuda:0\" if torch.cuda.is_available() else \"cpu\")\n",
    "latent_dim = 100"
   ]
  },
  {
   "cell_type": "code",
   "execution_count": 12,
   "metadata": {},
   "outputs": [],
   "source": [
    "G = Generator(latent_dim, 784).to(device)\n",
    "D = Discriminator(784, 1).to(device)\n",
    "\n",
    "g_optim = torch.optim.Adam(G.parameters(), lr=1e-4 * 2)\n",
    "d_optim = torch.optim.Adam(D.parameters(), lr=1e-4 * 2)"
   ]
  },
  {
   "cell_type": "code",
   "execution_count": 13,
   "metadata": {},
   "outputs": [],
   "source": [
    "def discriminator_loss(G, D, criterion, real, \\\n",
    "                       batch_size, latent_dim,device):\n",
    "    \"\"\"\n",
    "    Description : Function to calculate the loss for the discriminator\n",
    "    \n",
    "    Parameters:\n",
    "    @param G -- The Generator Network\n",
    "    @param D -- The Discriminator Network\n",
    "    @param criterion -- The loss function\n",
    "    @param real -- a numpy array representing the real images\n",
    "    @param batch_size -- python integer representing the batch_size\n",
    "    @param latent_dim -- python integer representing the latent dimension\n",
    "    @param device -- whether 'cpu' or 'cuda:0'\n",
    "    \n",
    "    Return :\n",
    "    @ret disc_loss -- the Discriminator Loss\n",
    "    \"\"\"\n",
    "    \n",
    "    zeros_ = torch.zeros(batch_size, 1).to(device)\n",
    "    ones_ = torch.ones(batch_size, 1).to(device)\n",
    "    \n",
    "    real_loss = criterion(D(real), ones_)\n",
    "    \n",
    "    noise = generate_noise(batch_size, latent_dim).to(device)\n",
    "    fake_img = G(noise).detach()\n",
    "    \n",
    "    fake_loss = criterion(D(fake_img), zeros_)\n",
    "    \n",
    "    disc_loss = (fake_loss + real_loss) * 0.5\n",
    "    \n",
    "    return disc_loss"
   ]
  },
  {
   "cell_type": "code",
   "execution_count": 14,
   "metadata": {},
   "outputs": [],
   "source": [
    "def generator_loss(G, D, criterion, batch_size, latent_dim, device):\n",
    "    \n",
    "    \"\"\"\n",
    "    Description : Function to calculate the generator loss\n",
    "    \n",
    "    Parameters:\n",
    "    @param G -- The Generator Network\n",
    "    @param D -- The Discriminator Network\n",
    "    @param criterion -- the Loss function\n",
    "    @param batch_size -- the batch size\n",
    "    @param latent_dim -- the latent dimension\n",
    "    @param device -- whether 'cpu' or 'cuda:0'\n",
    "    \n",
    "    Return:\n",
    "    @ret gen_loss -- the Generator Loss\n",
    "    \"\"\"\n",
    "    \n",
    "    noise = generate_noise(batch_size, latent_dim).to(device)\n",
    "    ones_ = torch.ones(batch_size, 1).to(device)\n",
    "    \n",
    "    fake_image = G(noise)\n",
    "    \n",
    "    gen_loss = criterion(D(fake_image), ones_)\n",
    "    \n",
    "    return gen_loss"
   ]
  },
  {
   "cell_type": "code",
   "execution_count": 15,
   "metadata": {},
   "outputs": [],
   "source": [
    "if not os.path.exists(\"./IMAGES/SimpleGANs\"):\n",
    "    os.mkdir(\"./IMAGES/SimpleGANs\")"
   ]
  },
  {
   "cell_type": "code",
   "execution_count": 16,
   "metadata": {},
   "outputs": [],
   "source": [
    "def scale_image(img):\n",
    "    return (img + 1) / 2"
   ]
  },
  {
   "cell_type": "code",
   "execution_count": 17,
   "metadata": {},
   "outputs": [],
   "source": [
    "def train(G, D, criterion, g_optim, d_optim, data_iter, latent_dim, epochs=200, save=True):\n",
    "    \"\"\"\n",
    "    Description : To train the GANs model\n",
    "    \n",
    "    Parameters:\n",
    "    @param G -- The Generator Network\n",
    "    @param D -- The Discriminator Network\n",
    "    @param g_optim -- the Generator Optimizer\n",
    "    @param d_optim -- the Discriminator Optimizer\n",
    "    @param data_iter -- the data to train on\n",
    "    @param latent_dim -- the dimension for the noise\n",
    "    @param epochs -- number of epochs to run (default=200)\n",
    "    @param save -- whether to save the images or not (default=True)\n",
    "    \n",
    "    Return :\n",
    "    @ret g_losses -- the Generator Losses\n",
    "    @ret d_losses -- the Discriminator Losses\n",
    "    \"\"\"\n",
    "    g_losses = []\n",
    "    d_losses = []\n",
    "    \n",
    "    for epoch in range(epochs):\n",
    "        \n",
    "        d_loss = []\n",
    "        g_loss = []\n",
    "        batch_size = 0\n",
    "        for inputs, _ in tqdm(data_iter):\n",
    "            \n",
    "            batch_size = inputs.size(0)\n",
    "            inputs = inputs.resize(batch_size, 784).to(device)\n",
    "            \n",
    "            \n",
    "            ##############################################\n",
    "            ########### TRAIN DISCRIMINATOR ############\n",
    "            #############################################\n",
    "            d_optim.zero_grad()\n",
    "            \n",
    "            dLoss = discriminator_loss(G, D, criterion, inputs, batch_size,\\\n",
    "                                      latent_dim, device) \n",
    "            \n",
    "            dLoss.backward()\n",
    "            d_optim.step()\n",
    "            \n",
    "            d_loss.append(dLoss.item())\n",
    "            \n",
    "            ##############################################\n",
    "            ########### TRAIN GENERATOR ############\n",
    "            #############################################\n",
    "            gLoss = []\n",
    "            for _ in range(2):\n",
    "                g_optim.zero_grad()\n",
    "                _gLoss = generator_loss(G, D, criterion, batch_size, latent_dim, device)\n",
    "\n",
    "                _gLoss.backward()\n",
    "                g_optim.step()\n",
    "                gLoss.append(_gLoss.item())\n",
    "            g_loss.append(np.mean(gLoss))\n",
    "            \n",
    "        \n",
    "        d_loss = np.mean(d_loss)\n",
    "        g_loss = np.mean(g_loss)\n",
    "        \n",
    "        g_losses.append(g_loss)\n",
    "        d_losses.append(d_loss)\n",
    "        \n",
    "        print(f\"Epoch:{epoch+1}/{epochs} || Disc Loss: {d_loss} || Gen Loss : {g_loss}\")\n",
    "        \n",
    "        if save:\n",
    "            noise = generate_noise(batch_size, latent_dim)\n",
    "            fake_img = G(noise.to(device))\n",
    "            fake_img = fake_img.reshape(-1, 1, 28, 28)\n",
    "            save_image(scale_image(fake_img), f\"./IMAGES/SimpleGANs/gan_{epoch}.png\")\n",
    "            \n",
    "    return g_losses, d_losses\n",
    "            \n",
    "            \n",
    "            \n",
    "            \n",
    "            \n",
    "            \n",
    "            \n",
    "            "
   ]
  },
  {
   "cell_type": "code",
   "execution_count": 18,
   "metadata": {
    "scrolled": true
   },
   "outputs": [
    {
     "data": {
      "application/vnd.jupyter.widget-view+json": {
       "model_id": "2c21b8c94aaa42daac20b60098376521",
       "version_major": 2,
       "version_minor": 0
      },
      "text/plain": [
       "HBox(children=(FloatProgress(value=0.0, max=469.0), HTML(value='')))"
      ]
     },
     "metadata": {},
     "output_type": "display_data"
    },
    {
     "name": "stderr",
     "output_type": "stream",
     "text": [
      "/home/adityam/anaconda3/lib/python3.8/site-packages/torch/tensor.py:358: UserWarning: non-inplace resize is deprecated\n",
      "  warnings.warn(\"non-inplace resize is deprecated\")\n"
     ]
    },
    {
     "name": "stdout",
     "output_type": "stream",
     "text": [
      "\n",
      "Epoch:1/50 || Disc Loss: 0.31800070948311004 || Gen Loss : 2.861466658172577\n"
     ]
    },
    {
     "data": {
      "application/vnd.jupyter.widget-view+json": {
       "model_id": "ee8100f257764b5f99c27bb37bd51df9",
       "version_major": 2,
       "version_minor": 0
      },
      "text/plain": [
       "HBox(children=(FloatProgress(value=0.0, max=469.0), HTML(value='')))"
      ]
     },
     "metadata": {},
     "output_type": "display_data"
    },
    {
     "name": "stdout",
     "output_type": "stream",
     "text": [
      "\n",
      "Epoch:2/50 || Disc Loss: 0.2542522428894856 || Gen Loss : 3.4398303495795486\n"
     ]
    },
    {
     "data": {
      "application/vnd.jupyter.widget-view+json": {
       "model_id": "62d343c5682a4e8d808fea2b0a9b9dbf",
       "version_major": 2,
       "version_minor": 0
      },
      "text/plain": [
       "HBox(children=(FloatProgress(value=0.0, max=469.0), HTML(value='')))"
      ]
     },
     "metadata": {},
     "output_type": "display_data"
    },
    {
     "name": "stdout",
     "output_type": "stream",
     "text": [
      "\n",
      "Epoch:3/50 || Disc Loss: 0.20621717916622853 || Gen Loss : 4.303773578804439\n"
     ]
    },
    {
     "data": {
      "application/vnd.jupyter.widget-view+json": {
       "model_id": "506d23689a764f4081e750f66fdf2ac9",
       "version_major": 2,
       "version_minor": 0
      },
      "text/plain": [
       "HBox(children=(FloatProgress(value=0.0, max=469.0), HTML(value='')))"
      ]
     },
     "metadata": {},
     "output_type": "display_data"
    },
    {
     "name": "stdout",
     "output_type": "stream",
     "text": [
      "\n",
      "Epoch:4/50 || Disc Loss: 0.28375366328558177 || Gen Loss : 4.238948888234747\n"
     ]
    },
    {
     "data": {
      "application/vnd.jupyter.widget-view+json": {
       "model_id": "58000a694fcc479c952a0eafb3c9bcac",
       "version_major": 2,
       "version_minor": 0
      },
      "text/plain": [
       "HBox(children=(FloatProgress(value=0.0, max=469.0), HTML(value='')))"
      ]
     },
     "metadata": {},
     "output_type": "display_data"
    },
    {
     "name": "stdout",
     "output_type": "stream",
     "text": [
      "\n",
      "Epoch:5/50 || Disc Loss: 0.26784670066986005 || Gen Loss : 4.106409969106157\n"
     ]
    },
    {
     "data": {
      "application/vnd.jupyter.widget-view+json": {
       "model_id": "195a3d54a0684a1695b73b5d7d3f1c3f",
       "version_major": 2,
       "version_minor": 0
      },
      "text/plain": [
       "HBox(children=(FloatProgress(value=0.0, max=469.0), HTML(value='')))"
      ]
     },
     "metadata": {},
     "output_type": "display_data"
    },
    {
     "name": "stdout",
     "output_type": "stream",
     "text": [
      "\n",
      "Epoch:6/50 || Disc Loss: 0.3590259065569591 || Gen Loss : 3.4798776270992464\n"
     ]
    },
    {
     "data": {
      "application/vnd.jupyter.widget-view+json": {
       "model_id": "705cae6ee78944718438dbf37d6164a5",
       "version_major": 2,
       "version_minor": 0
      },
      "text/plain": [
       "HBox(children=(FloatProgress(value=0.0, max=469.0), HTML(value='')))"
      ]
     },
     "metadata": {},
     "output_type": "display_data"
    },
    {
     "name": "stdout",
     "output_type": "stream",
     "text": [
      "\n",
      "Epoch:7/50 || Disc Loss: 0.29300675383890107 || Gen Loss : 3.5379670372903984\n"
     ]
    },
    {
     "data": {
      "application/vnd.jupyter.widget-view+json": {
       "model_id": "0443c034d67341839b3600f9dff8c356",
       "version_major": 2,
       "version_minor": 0
      },
      "text/plain": [
       "HBox(children=(FloatProgress(value=0.0, max=469.0), HTML(value='')))"
      ]
     },
     "metadata": {},
     "output_type": "display_data"
    },
    {
     "name": "stdout",
     "output_type": "stream",
     "text": [
      "\n",
      "Epoch:8/50 || Disc Loss: 0.3234934106882193 || Gen Loss : 4.114818744822098\n"
     ]
    },
    {
     "data": {
      "application/vnd.jupyter.widget-view+json": {
       "model_id": "ea2c64c8904346a295f709259fac23ce",
       "version_major": 2,
       "version_minor": 0
      },
      "text/plain": [
       "HBox(children=(FloatProgress(value=0.0, max=469.0), HTML(value='')))"
      ]
     },
     "metadata": {},
     "output_type": "display_data"
    },
    {
     "name": "stdout",
     "output_type": "stream",
     "text": [
      "\n",
      "Epoch:9/50 || Disc Loss: 0.3145388893798979 || Gen Loss : 3.6592027678418515\n"
     ]
    },
    {
     "data": {
      "application/vnd.jupyter.widget-view+json": {
       "model_id": "1598381844614da9b755f16d18d42ac1",
       "version_major": 2,
       "version_minor": 0
      },
      "text/plain": [
       "HBox(children=(FloatProgress(value=0.0, max=469.0), HTML(value='')))"
      ]
     },
     "metadata": {},
     "output_type": "display_data"
    },
    {
     "name": "stdout",
     "output_type": "stream",
     "text": [
      "\n",
      "Epoch:10/50 || Disc Loss: 0.2422900098219101 || Gen Loss : 3.75608292063162\n"
     ]
    },
    {
     "data": {
      "application/vnd.jupyter.widget-view+json": {
       "model_id": "0af29556387b41fdb8b94f804f3bca90",
       "version_major": 2,
       "version_minor": 0
      },
      "text/plain": [
       "HBox(children=(FloatProgress(value=0.0, max=469.0), HTML(value='')))"
      ]
     },
     "metadata": {},
     "output_type": "display_data"
    },
    {
     "name": "stdout",
     "output_type": "stream",
     "text": [
      "\n",
      "Epoch:11/50 || Disc Loss: 0.350054380068901 || Gen Loss : 3.487364179162837\n"
     ]
    },
    {
     "data": {
      "application/vnd.jupyter.widget-view+json": {
       "model_id": "c0f7e45bbb3c4d25b26a41ca8e739572",
       "version_major": 2,
       "version_minor": 0
      },
      "text/plain": [
       "HBox(children=(FloatProgress(value=0.0, max=469.0), HTML(value='')))"
      ]
     },
     "metadata": {},
     "output_type": "display_data"
    },
    {
     "name": "stdout",
     "output_type": "stream",
     "text": [
      "\n",
      "Epoch:12/50 || Disc Loss: 0.37223480759399025 || Gen Loss : 3.173035541577126\n"
     ]
    },
    {
     "data": {
      "application/vnd.jupyter.widget-view+json": {
       "model_id": "7dc32c9b02164ec4bd39bad5c1b188eb",
       "version_major": 2,
       "version_minor": 0
      },
      "text/plain": [
       "HBox(children=(FloatProgress(value=0.0, max=469.0), HTML(value='')))"
      ]
     },
     "metadata": {},
     "output_type": "display_data"
    },
    {
     "name": "stdout",
     "output_type": "stream",
     "text": [
      "\n",
      "Epoch:13/50 || Disc Loss: 0.4015433324743181 || Gen Loss : 2.4076366118276553\n"
     ]
    },
    {
     "data": {
      "application/vnd.jupyter.widget-view+json": {
       "model_id": "3742dbf408b1484f851fa5532298153a",
       "version_major": 2,
       "version_minor": 0
      },
      "text/plain": [
       "HBox(children=(FloatProgress(value=0.0, max=469.0), HTML(value='')))"
      ]
     },
     "metadata": {},
     "output_type": "display_data"
    },
    {
     "name": "stdout",
     "output_type": "stream",
     "text": [
      "\n",
      "Epoch:14/50 || Disc Loss: 0.40367478373716636 || Gen Loss : 2.3145758517261252\n"
     ]
    },
    {
     "data": {
      "application/vnd.jupyter.widget-view+json": {
       "model_id": "366392946e864d1d85298cc846680bb3",
       "version_major": 2,
       "version_minor": 0
      },
      "text/plain": [
       "HBox(children=(FloatProgress(value=0.0, max=469.0), HTML(value='')))"
      ]
     },
     "metadata": {},
     "output_type": "display_data"
    },
    {
     "name": "stdout",
     "output_type": "stream",
     "text": [
      "\n",
      "Epoch:15/50 || Disc Loss: 0.41313598468613777 || Gen Loss : 2.5408139324137395\n"
     ]
    },
    {
     "data": {
      "application/vnd.jupyter.widget-view+json": {
       "model_id": "1dadbd2a83704994b1c2482e9106c0e5",
       "version_major": 2,
       "version_minor": 0
      },
      "text/plain": [
       "HBox(children=(FloatProgress(value=0.0, max=469.0), HTML(value='')))"
      ]
     },
     "metadata": {},
     "output_type": "display_data"
    },
    {
     "name": "stdout",
     "output_type": "stream",
     "text": [
      "\n",
      "Epoch:16/50 || Disc Loss: 0.41596769485900653 || Gen Loss : 2.545915312858533\n"
     ]
    },
    {
     "data": {
      "application/vnd.jupyter.widget-view+json": {
       "model_id": "ec413f95c13f4b70b573c20d6333662b",
       "version_major": 2,
       "version_minor": 0
      },
      "text/plain": [
       "HBox(children=(FloatProgress(value=0.0, max=469.0), HTML(value='')))"
      ]
     },
     "metadata": {},
     "output_type": "display_data"
    },
    {
     "name": "stdout",
     "output_type": "stream",
     "text": [
      "\n",
      "Epoch:17/50 || Disc Loss: 0.4578136286374602 || Gen Loss : 2.3393372515879713\n"
     ]
    },
    {
     "data": {
      "application/vnd.jupyter.widget-view+json": {
       "model_id": "d0f8737c0143446b9dfbe83cb986411b",
       "version_major": 2,
       "version_minor": 0
      },
      "text/plain": [
       "HBox(children=(FloatProgress(value=0.0, max=469.0), HTML(value='')))"
      ]
     },
     "metadata": {},
     "output_type": "display_data"
    },
    {
     "name": "stdout",
     "output_type": "stream",
     "text": [
      "\n",
      "Epoch:18/50 || Disc Loss: 0.43048645756137904 || Gen Loss : 2.177260101604055\n"
     ]
    },
    {
     "data": {
      "application/vnd.jupyter.widget-view+json": {
       "model_id": "52bd554219a543e7923147985ce07c04",
       "version_major": 2,
       "version_minor": 0
      },
      "text/plain": [
       "HBox(children=(FloatProgress(value=0.0, max=469.0), HTML(value='')))"
      ]
     },
     "metadata": {},
     "output_type": "display_data"
    },
    {
     "name": "stdout",
     "output_type": "stream",
     "text": [
      "\n",
      "Epoch:19/50 || Disc Loss: 0.504253824636626 || Gen Loss : 1.9860311918167164\n"
     ]
    },
    {
     "data": {
      "application/vnd.jupyter.widget-view+json": {
       "model_id": "260583f3e9704450a290596419469b4f",
       "version_major": 2,
       "version_minor": 0
      },
      "text/plain": [
       "HBox(children=(FloatProgress(value=0.0, max=469.0), HTML(value='')))"
      ]
     },
     "metadata": {},
     "output_type": "display_data"
    },
    {
     "name": "stdout",
     "output_type": "stream",
     "text": [
      "\n",
      "Epoch:20/50 || Disc Loss: 0.4909305928993835 || Gen Loss : 2.201390696232761\n"
     ]
    },
    {
     "data": {
      "application/vnd.jupyter.widget-view+json": {
       "model_id": "7f294b1bd25f4a8a8b0d01424525dd00",
       "version_major": 2,
       "version_minor": 0
      },
      "text/plain": [
       "HBox(children=(FloatProgress(value=0.0, max=469.0), HTML(value='')))"
      ]
     },
     "metadata": {},
     "output_type": "display_data"
    },
    {
     "name": "stdout",
     "output_type": "stream",
     "text": [
      "\n",
      "Epoch:21/50 || Disc Loss: 0.48440911311076396 || Gen Loss : 2.144580035194405\n"
     ]
    },
    {
     "data": {
      "application/vnd.jupyter.widget-view+json": {
       "model_id": "db25af1b769d4ece9f9f8ed08893b10f",
       "version_major": 2,
       "version_minor": 0
      },
      "text/plain": [
       "HBox(children=(FloatProgress(value=0.0, max=469.0), HTML(value='')))"
      ]
     },
     "metadata": {},
     "output_type": "display_data"
    },
    {
     "name": "stdout",
     "output_type": "stream",
     "text": [
      "\n",
      "Epoch:22/50 || Disc Loss: 0.475162265206705 || Gen Loss : 1.8852531800646264\n"
     ]
    },
    {
     "data": {
      "application/vnd.jupyter.widget-view+json": {
       "model_id": "04c782d6d5d74d6fb3766b0ba29c6949",
       "version_major": 2,
       "version_minor": 0
      },
      "text/plain": [
       "HBox(children=(FloatProgress(value=0.0, max=469.0), HTML(value='')))"
      ]
     },
     "metadata": {},
     "output_type": "display_data"
    },
    {
     "name": "stdout",
     "output_type": "stream",
     "text": [
      "\n",
      "Epoch:23/50 || Disc Loss: 0.48739819136509765 || Gen Loss : 1.7933344659266441\n"
     ]
    },
    {
     "data": {
      "application/vnd.jupyter.widget-view+json": {
       "model_id": "b346126ea089437984fd42b81dd92e9f",
       "version_major": 2,
       "version_minor": 0
      },
      "text/plain": [
       "HBox(children=(FloatProgress(value=0.0, max=469.0), HTML(value='')))"
      ]
     },
     "metadata": {},
     "output_type": "display_data"
    },
    {
     "name": "stdout",
     "output_type": "stream",
     "text": [
      "\n",
      "Epoch:24/50 || Disc Loss: 0.4862415229460832 || Gen Loss : 1.7622546003952717\n"
     ]
    },
    {
     "data": {
      "application/vnd.jupyter.widget-view+json": {
       "model_id": "8b4fbfb9133a4cb984976c2c3637184f",
       "version_major": 2,
       "version_minor": 0
      },
      "text/plain": [
       "HBox(children=(FloatProgress(value=0.0, max=469.0), HTML(value='')))"
      ]
     },
     "metadata": {},
     "output_type": "display_data"
    },
    {
     "name": "stdout",
     "output_type": "stream",
     "text": [
      "\n",
      "Epoch:25/50 || Disc Loss: 0.5242522812601346 || Gen Loss : 1.697481661336\n"
     ]
    },
    {
     "data": {
      "application/vnd.jupyter.widget-view+json": {
       "model_id": "d539fea8bbee4273bcc8ec47bc517e9f",
       "version_major": 2,
       "version_minor": 0
      },
      "text/plain": [
       "HBox(children=(FloatProgress(value=0.0, max=469.0), HTML(value='')))"
      ]
     },
     "metadata": {},
     "output_type": "display_data"
    },
    {
     "name": "stdout",
     "output_type": "stream",
     "text": [
      "\n",
      "Epoch:26/50 || Disc Loss: 0.5311296960946593 || Gen Loss : 1.5610687367951692\n"
     ]
    },
    {
     "data": {
      "application/vnd.jupyter.widget-view+json": {
       "model_id": "34ef587ea1eb488491d1fbed14ca9199",
       "version_major": 2,
       "version_minor": 0
      },
      "text/plain": [
       "HBox(children=(FloatProgress(value=0.0, max=469.0), HTML(value='')))"
      ]
     },
     "metadata": {},
     "output_type": "display_data"
    },
    {
     "name": "stdout",
     "output_type": "stream",
     "text": [
      "\n",
      "Epoch:27/50 || Disc Loss: 0.4944372815109773 || Gen Loss : 1.6644548173271008\n"
     ]
    },
    {
     "data": {
      "application/vnd.jupyter.widget-view+json": {
       "model_id": "81e18dd0d2744a90986c2a3648eb380b",
       "version_major": 2,
       "version_minor": 0
      },
      "text/plain": [
       "HBox(children=(FloatProgress(value=0.0, max=469.0), HTML(value='')))"
      ]
     },
     "metadata": {},
     "output_type": "display_data"
    },
    {
     "name": "stdout",
     "output_type": "stream",
     "text": [
      "\n",
      "Epoch:28/50 || Disc Loss: 0.5134801055703845 || Gen Loss : 1.6978121637535502\n"
     ]
    },
    {
     "data": {
      "application/vnd.jupyter.widget-view+json": {
       "model_id": "604e58c1d68b40208619122a54c77552",
       "version_major": 2,
       "version_minor": 0
      },
      "text/plain": [
       "HBox(children=(FloatProgress(value=0.0, max=469.0), HTML(value='')))"
      ]
     },
     "metadata": {},
     "output_type": "display_data"
    },
    {
     "name": "stdout",
     "output_type": "stream",
     "text": [
      "\n",
      "Epoch:29/50 || Disc Loss: 0.5261668512053581 || Gen Loss : 1.585882985642724\n"
     ]
    },
    {
     "data": {
      "application/vnd.jupyter.widget-view+json": {
       "model_id": "d2114ac2bd1a45aabefb87c6b00feb86",
       "version_major": 2,
       "version_minor": 0
      },
      "text/plain": [
       "HBox(children=(FloatProgress(value=0.0, max=469.0), HTML(value='')))"
      ]
     },
     "metadata": {},
     "output_type": "display_data"
    },
    {
     "name": "stdout",
     "output_type": "stream",
     "text": [
      "\n",
      "Epoch:30/50 || Disc Loss: 0.5180052507406613 || Gen Loss : 1.6009497976125175\n"
     ]
    },
    {
     "data": {
      "application/vnd.jupyter.widget-view+json": {
       "model_id": "1535a625215448b8b4090af18a6a9620",
       "version_major": 2,
       "version_minor": 0
      },
      "text/plain": [
       "HBox(children=(FloatProgress(value=0.0, max=469.0), HTML(value='')))"
      ]
     },
     "metadata": {},
     "output_type": "display_data"
    },
    {
     "name": "stdout",
     "output_type": "stream",
     "text": [
      "\n",
      "Epoch:31/50 || Disc Loss: 0.5328579698163055 || Gen Loss : 1.641547716820418\n"
     ]
    },
    {
     "data": {
      "application/vnd.jupyter.widget-view+json": {
       "model_id": "9794855218d84075ae75f5159795414a",
       "version_major": 2,
       "version_minor": 0
      },
      "text/plain": [
       "HBox(children=(FloatProgress(value=0.0, max=469.0), HTML(value='')))"
      ]
     },
     "metadata": {},
     "output_type": "display_data"
    },
    {
     "name": "stdout",
     "output_type": "stream",
     "text": [
      "\n",
      "Epoch:32/50 || Disc Loss: 0.5116510383610023 || Gen Loss : 1.677012924255847\n"
     ]
    },
    {
     "data": {
      "application/vnd.jupyter.widget-view+json": {
       "model_id": "b2f94f8d54d54045b7cb02a77c7f4a9f",
       "version_major": 2,
       "version_minor": 0
      },
      "text/plain": [
       "HBox(children=(FloatProgress(value=0.0, max=469.0), HTML(value='')))"
      ]
     },
     "metadata": {},
     "output_type": "display_data"
    },
    {
     "name": "stdout",
     "output_type": "stream",
     "text": [
      "\n",
      "Epoch:33/50 || Disc Loss: 0.5256215021935607 || Gen Loss : 1.494324043551996\n"
     ]
    },
    {
     "data": {
      "application/vnd.jupyter.widget-view+json": {
       "model_id": "434db54cb9764761bcb00c35408971b1",
       "version_major": 2,
       "version_minor": 0
      },
      "text/plain": [
       "HBox(children=(FloatProgress(value=0.0, max=469.0), HTML(value='')))"
      ]
     },
     "metadata": {},
     "output_type": "display_data"
    },
    {
     "name": "stdout",
     "output_type": "stream",
     "text": [
      "\n",
      "Epoch:34/50 || Disc Loss: 0.5410227414006109 || Gen Loss : 1.5278984921446233\n"
     ]
    },
    {
     "data": {
      "application/vnd.jupyter.widget-view+json": {
       "model_id": "7d82c9f4ab6f421b8774eb3450edc71f",
       "version_major": 2,
       "version_minor": 0
      },
      "text/plain": [
       "HBox(children=(FloatProgress(value=0.0, max=469.0), HTML(value='')))"
      ]
     },
     "metadata": {},
     "output_type": "display_data"
    },
    {
     "name": "stdout",
     "output_type": "stream",
     "text": [
      "\n",
      "Epoch:35/50 || Disc Loss: 0.5682622803045488 || Gen Loss : 1.514929454209708\n"
     ]
    },
    {
     "data": {
      "application/vnd.jupyter.widget-view+json": {
       "model_id": "b679f13760b940a2b7b8b754df5586ab",
       "version_major": 2,
       "version_minor": 0
      },
      "text/plain": [
       "HBox(children=(FloatProgress(value=0.0, max=469.0), HTML(value='')))"
      ]
     },
     "metadata": {},
     "output_type": "display_data"
    },
    {
     "name": "stdout",
     "output_type": "stream",
     "text": [
      "\n",
      "Epoch:36/50 || Disc Loss: 0.5672796840098366 || Gen Loss : 1.4537046312142028\n"
     ]
    },
    {
     "data": {
      "application/vnd.jupyter.widget-view+json": {
       "model_id": "f3df4016de7f43afb70fcc8be7ba90ec",
       "version_major": 2,
       "version_minor": 0
      },
      "text/plain": [
       "HBox(children=(FloatProgress(value=0.0, max=469.0), HTML(value='')))"
      ]
     },
     "metadata": {},
     "output_type": "display_data"
    },
    {
     "name": "stdout",
     "output_type": "stream",
     "text": [
      "\n",
      "Epoch:37/50 || Disc Loss: 0.5253833037322518 || Gen Loss : 1.3690132042492376\n"
     ]
    },
    {
     "data": {
      "application/vnd.jupyter.widget-view+json": {
       "model_id": "7e1f62f1c294459788ef3422dc983cc1",
       "version_major": 2,
       "version_minor": 0
      },
      "text/plain": [
       "HBox(children=(FloatProgress(value=0.0, max=469.0), HTML(value='')))"
      ]
     },
     "metadata": {},
     "output_type": "display_data"
    },
    {
     "name": "stdout",
     "output_type": "stream",
     "text": [
      "\n",
      "Epoch:38/50 || Disc Loss: 0.5601489449233643 || Gen Loss : 1.2809726219695767\n"
     ]
    },
    {
     "data": {
      "application/vnd.jupyter.widget-view+json": {
       "model_id": "91bd65ec4dc849c19e67e2ee2dbce70e",
       "version_major": 2,
       "version_minor": 0
      },
      "text/plain": [
       "HBox(children=(FloatProgress(value=0.0, max=469.0), HTML(value='')))"
      ]
     },
     "metadata": {},
     "output_type": "display_data"
    },
    {
     "name": "stdout",
     "output_type": "stream",
     "text": [
      "\n",
      "Epoch:39/50 || Disc Loss: 0.5643811123584633 || Gen Loss : 1.3636993289248014\n"
     ]
    },
    {
     "data": {
      "application/vnd.jupyter.widget-view+json": {
       "model_id": "f4d4328f8f1c462b9247d165b955a564",
       "version_major": 2,
       "version_minor": 0
      },
      "text/plain": [
       "HBox(children=(FloatProgress(value=0.0, max=469.0), HTML(value='')))"
      ]
     },
     "metadata": {},
     "output_type": "display_data"
    },
    {
     "name": "stdout",
     "output_type": "stream",
     "text": [
      "\n",
      "Epoch:40/50 || Disc Loss: 0.5753417628279118 || Gen Loss : 1.3254121386293154\n"
     ]
    },
    {
     "data": {
      "application/vnd.jupyter.widget-view+json": {
       "model_id": "6a3c543e81ce49d7adbbf3e900c3ef06",
       "version_major": 2,
       "version_minor": 0
      },
      "text/plain": [
       "HBox(children=(FloatProgress(value=0.0, max=469.0), HTML(value='')))"
      ]
     },
     "metadata": {},
     "output_type": "display_data"
    },
    {
     "name": "stdout",
     "output_type": "stream",
     "text": [
      "\n",
      "Epoch:41/50 || Disc Loss: 0.5625072476833359 || Gen Loss : 1.2887182024750374\n"
     ]
    },
    {
     "data": {
      "application/vnd.jupyter.widget-view+json": {
       "model_id": "e688e14ff71d4a52b0b8d7ad1c6afb03",
       "version_major": 2,
       "version_minor": 0
      },
      "text/plain": [
       "HBox(children=(FloatProgress(value=0.0, max=469.0), HTML(value='')))"
      ]
     },
     "metadata": {},
     "output_type": "display_data"
    },
    {
     "name": "stdout",
     "output_type": "stream",
     "text": [
      "\n",
      "Epoch:42/50 || Disc Loss: 0.5752003539854021 || Gen Loss : 1.3453455574985251\n"
     ]
    },
    {
     "data": {
      "application/vnd.jupyter.widget-view+json": {
       "model_id": "bd2bde468a8848579af8811a757a6e5e",
       "version_major": 2,
       "version_minor": 0
      },
      "text/plain": [
       "HBox(children=(FloatProgress(value=0.0, max=469.0), HTML(value='')))"
      ]
     },
     "metadata": {},
     "output_type": "display_data"
    },
    {
     "name": "stdout",
     "output_type": "stream",
     "text": [
      "\n",
      "Epoch:43/50 || Disc Loss: 0.5929823918129081 || Gen Loss : 1.3518711953147897\n"
     ]
    },
    {
     "data": {
      "application/vnd.jupyter.widget-view+json": {
       "model_id": "a8b6d0dc932d406595761121e997c2f1",
       "version_major": 2,
       "version_minor": 0
      },
      "text/plain": [
       "HBox(children=(FloatProgress(value=0.0, max=469.0), HTML(value='')))"
      ]
     },
     "metadata": {},
     "output_type": "display_data"
    },
    {
     "name": "stdout",
     "output_type": "stream",
     "text": [
      "\n",
      "Epoch:44/50 || Disc Loss: 0.5647495685101572 || Gen Loss : 1.2824573291263093\n"
     ]
    },
    {
     "data": {
      "application/vnd.jupyter.widget-view+json": {
       "model_id": "0061bdcfb1604d92b63c56e7334f3c75",
       "version_major": 2,
       "version_minor": 0
      },
      "text/plain": [
       "HBox(children=(FloatProgress(value=0.0, max=469.0), HTML(value='')))"
      ]
     },
     "metadata": {},
     "output_type": "display_data"
    },
    {
     "name": "stdout",
     "output_type": "stream",
     "text": [
      "\n",
      "Epoch:45/50 || Disc Loss: 0.5488719860119606 || Gen Loss : 1.3614944330156484\n"
     ]
    },
    {
     "data": {
      "application/vnd.jupyter.widget-view+json": {
       "model_id": "18bc3b457b624cfcadd0c05c378852e8",
       "version_major": 2,
       "version_minor": 0
      },
      "text/plain": [
       "HBox(children=(FloatProgress(value=0.0, max=469.0), HTML(value='')))"
      ]
     },
     "metadata": {},
     "output_type": "display_data"
    },
    {
     "name": "stdout",
     "output_type": "stream",
     "text": [
      "\n",
      "Epoch:46/50 || Disc Loss: 0.570255541979377 || Gen Loss : 1.2816947776117305\n"
     ]
    },
    {
     "data": {
      "application/vnd.jupyter.widget-view+json": {
       "model_id": "01feeb3cd2db47bf87694bb9ba1f885f",
       "version_major": 2,
       "version_minor": 0
      },
      "text/plain": [
       "HBox(children=(FloatProgress(value=0.0, max=469.0), HTML(value='')))"
      ]
     },
     "metadata": {},
     "output_type": "display_data"
    },
    {
     "name": "stdout",
     "output_type": "stream",
     "text": [
      "\n",
      "Epoch:47/50 || Disc Loss: 0.5719418554926223 || Gen Loss : 1.2932559516765416\n"
     ]
    },
    {
     "data": {
      "application/vnd.jupyter.widget-view+json": {
       "model_id": "aea22c56f4f64bccae07058bb9b1182d",
       "version_major": 2,
       "version_minor": 0
      },
      "text/plain": [
       "HBox(children=(FloatProgress(value=0.0, max=469.0), HTML(value='')))"
      ]
     },
     "metadata": {},
     "output_type": "display_data"
    },
    {
     "name": "stdout",
     "output_type": "stream",
     "text": [
      "\n",
      "Epoch:48/50 || Disc Loss: 0.5800599191488742 || Gen Loss : 1.1980343994174176\n"
     ]
    },
    {
     "data": {
      "application/vnd.jupyter.widget-view+json": {
       "model_id": "c0686050b0bd45db92cc914ffc089184",
       "version_major": 2,
       "version_minor": 0
      },
      "text/plain": [
       "HBox(children=(FloatProgress(value=0.0, max=469.0), HTML(value='')))"
      ]
     },
     "metadata": {},
     "output_type": "display_data"
    },
    {
     "name": "stdout",
     "output_type": "stream",
     "text": [
      "\n",
      "Epoch:49/50 || Disc Loss: 0.5942183279914897 || Gen Loss : 1.1269672980694883\n"
     ]
    },
    {
     "data": {
      "application/vnd.jupyter.widget-view+json": {
       "model_id": "431fdf0d772c4d7b99204748c6712059",
       "version_major": 2,
       "version_minor": 0
      },
      "text/plain": [
       "HBox(children=(FloatProgress(value=0.0, max=469.0), HTML(value='')))"
      ]
     },
     "metadata": {},
     "output_type": "display_data"
    },
    {
     "name": "stdout",
     "output_type": "stream",
     "text": [
      "\n",
      "Epoch:50/50 || Disc Loss: 0.5965784333153829 || Gen Loss : 1.1204869966390036\n"
     ]
    }
   ],
   "source": [
    "g_losses, d_losses = train(G, D, criterion, g_optim, d_optim, train_iter, latent_dim, epochs=50)"
   ]
  },
  {
   "cell_type": "code",
   "execution_count": 19,
   "metadata": {},
   "outputs": [
    {
     "data": {
      "image/png": "[encoded data removed]",
      "text/plain": [
       "<Figure size 576x504 with 1 Axes>"
      ]
     },
     "metadata": {},
     "output_type": "display_data"
    }
   ],
   "source": [
    "plt.title(\"Generator-Discriminator Losses for a Simple GANs\")\n",
    "plt.plot(g_losses, label=\"Generator Loss\")\n",
    "plt.plot(d_losses, label=\"Discriminator Loss\")\n",
    "plt.legend()\n",
    "plt.show()"
   ]
  },
  {
   "cell_type": "code",
   "execution_count": 20,
   "metadata": {},
   "outputs": [],
   "source": [
    "save_model = {\"Generator\" : G.state_dict(),\n",
    "             \"Discriminator\" : D.state_dict(),\n",
    "             \"G_Optim\": g_optim.state_dict(),\n",
    "             \"D_Optim\": d_optim.state_dict()}\n",
    "\n",
    "torch.save(save_model, \"./MODELS/SimpleGANs.ptx\")"
   ]
  },
  {
   "cell_type": "code",
   "execution_count": null,
   "metadata": {},
   "outputs": [],
   "source": []
  }
 ],
 "metadata": {
  "kernelspec": {
   "display_name": "Python 3",
   "language": "python",
   "name": "python3"
  },
  "language_info": {
   "codemirror_mode": {
    "name": "ipython",
    "version": 3
   },
   "file_extension": ".py",
   "mimetype": "text/x-python",
   "name": "python",
   "nbconvert_exporter": "python",
   "pygments_lexer": "ipython3",
   "version": "3.8.3"
  }
 },
 "nbformat": 4,
 "nbformat_minor": 4
}
